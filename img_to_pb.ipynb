{
 "cells": [
  {
   "cell_type": "code",
   "execution_count": null,
   "metadata": {},
   "outputs": [],
   "source": [
    "import tensorflow as tf\n",
    "\n",
    "# 讀取照片\n",
    "image = tf.io.read_file(\"coffee.jpg\")\n",
    "image_tensor = tf.image.decode_jpeg(image, channels=3)\n",
    "\n",
    "# 將照片數據保存為 TensorFlow SavedModel 格式\n",
    "with tf.compat.v1.Session(graph=tf.Graph()) as sess:\n",
    "    tf.compat.v1.placeholder(tf.string, name=\"input_image\")\n",
    "    tf.identity(image_tensor, name=\"output_image\")\n",
    "    \n",
    "    tf.compat.v1.saved_model.simple_save(\n",
    "        session=sess,\n",
    "        save_model_path=\"path_to_save_pb\",\n",
    "        inputs={\"input_image\": image_tensor},\n",
    "        outputs={\"output_image\": image_tensor}\n",
    "    )\n"
   ]
  },
  {
   "cell_type": "code",
   "execution_count": null,
   "metadata": {},
   "outputs": [],
   "source": [
    "import cv2\n",
    "import tensorflow as tf\n",
    "\n",
    "# 初始化攝像頭\n",
    "cap = cv2.VideoCapture(0) \n",
    "\n",
    "# 若需要，載入你的 TensorFlow 模型\n",
    "# model = tf.saved_model.load(\"path_to_your_model\")\n",
    "\n",
    "while True:\n",
    "    # 讀取攝像頭的畫面\n",
    "    ret, frame = cap.read()\n",
    "\n",
    "    if not ret:\n",
    "        print(\"Failed to grab frame.\")\n",
    "        break\n",
    "\n",
    "    # 這裡你可以使用 TensorFlow 進行任何你需要的影像處理\n",
    "    # example: processed_frame = model(frame)\n",
    "\n",
    "    # 顯示畫面\n",
    "    cv2.imshow('Camera Feed', frame)\n",
    "\n",
    "    if cv2.waitKey(1) & 0xFF == ord('q'):\n",
    "        break\n",
    "\n",
    "cap.release()\n",
    "cv2.destroyAllWindows()\n"
   ]
  }
 ],
 "metadata": {
  "kernelspec": {
   "display_name": "onnx",
   "language": "python",
   "name": "python3"
  },
  "language_info": {
   "name": "python",
   "version": "3.9.16"
  },
  "orig_nbformat": 4
 },
 "nbformat": 4,
 "nbformat_minor": 2
}
