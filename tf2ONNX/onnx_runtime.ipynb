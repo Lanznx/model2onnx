{
 "cells": [
  {
   "cell_type": "code",
   "execution_count": 9,
   "metadata": {},
   "outputs": [
    {
     "name": "stdout",
     "output_type": "stream",
     "text": [
      "['/Users/anlu/Library/CloudStorage/OneDrive-NationalChengChiUniversity/Andes/tf2ONNX', '/Users/anlu/Library/CloudStorage/OneDrive-NationalChengChiUniversity/Andes/.conda/lib/python310.zip', '/Users/anlu/Library/CloudStorage/OneDrive-NationalChengChiUniversity/Andes/.conda/lib/python3.10', '/Users/anlu/Library/CloudStorage/OneDrive-NationalChengChiUniversity/Andes/.conda/lib/python3.10/lib-dynload', '', '/Users/anlu/Library/CloudStorage/OneDrive-NationalChengChiUniversity/Andes/.conda/lib/python3.10/site-packages']\n",
      "['converted_savedmodel', 'mobilenet_model.onnx', 'tf_to_onnx.ipynb', 'test_data', 'onnx_runtime.ipynb']\n"
     ]
    }
   ],
   "source": [
    "import sys\n",
    "import os\n",
    "\n",
    "print(sys.path)\n",
    "print(os.listdir())"
   ]
  },
  {
   "cell_type": "code",
   "execution_count": 31,
   "metadata": {},
   "outputs": [
    {
     "name": "stdout",
     "output_type": "stream",
     "text": [
      "Model expects input shape: ['unk__606', 224, 224, 3]\n",
      "[array([[9.9999261e-01, 5.4477738e-09, 7.3102179e-08, 1.5330679e-06,\n",
      "        5.8467081e-06],\n",
      "       [1.1360007e-02, 9.2094106e-04, 9.5218921e-01, 5.3054756e-03,\n",
      "        3.0224344e-02],\n",
      "       [3.4919268e-04, 1.1362392e-05, 9.9389315e-01, 5.5163988e-04,\n",
      "        5.1947529e-03],\n",
      "       [5.0094786e-07, 1.5269197e-06, 6.3238235e-07, 4.4463333e-02,\n",
      "        9.5553398e-01],\n",
      "       [1.9753384e-03, 3.3209322e-09, 4.1972694e-08, 3.0801226e-03,\n",
      "        9.9494451e-01]], dtype=float32)] results\n",
      "Predicted classes: [1 3 3 5 5] 數字代表類別\n"
     ]
    }
   ],
   "source": [
    "import numpy as np\n",
    "import onnxruntime as ort\n",
    "from PIL import Image\n",
    "\n",
    "def preprocess_images(image_paths, target_size):\n",
    "    images = []\n",
    "\n",
    "    for image_path in image_paths:\n",
    "        img = Image.open(image_path).convert('RGB')  # 確保圖片是RGB格式\n",
    "        img = img.resize(target_size)\n",
    "        img_array = np.asarray(img).astype(np.float32)\n",
    "\n",
    "        # 根據您的模型的預處理步驟進行調整，例如：正規化\n",
    "        img_array = img_array / 255.0\n",
    "\n",
    "        images.append(img_array)\n",
    "\n",
    "    return np.array(images)  # 返回形狀為 (batch_size, height, width, channels) 的數據\n",
    "\n",
    "# 加載模型\n",
    "sess = ort.InferenceSession(\"mobilenet_model.onnx\")\n",
    "\n",
    "# 檢查模型預期的輸入形狀\n",
    "input_shape = sess.get_inputs()[0].shape\n",
    "print(f\"Model expects input shape: {input_shape}\")\n",
    "\n",
    "# 預處理多張照片\n",
    "image_paths = [\n",
    "    \"test_data/1.png\",\n",
    "    \"test_data/2.png\",\n",
    "    \"test_data/3.png\",\n",
    "    \"test_data/4.png\",\n",
    "    \"test_data/5.png\",\n",
    "]\n",
    "\n",
    "input_data = preprocess_images(image_paths, (224, 224))\n",
    "\n",
    "# 如果模型預期的輸入是 (batch_size, 3, 224, 224)，則調整形狀\n",
    "if len(input_shape) == 4 and input_shape[1] == 3:\n",
    "    input_data = input_data.transpose((0, 3, 1, 2))\n",
    "\n",
    "# 準備輸入數據並執行推理\n",
    "input_name = sess.get_inputs()[0].name\n",
    "results = sess.run(None, {input_name: input_data})\n",
    "print(results, \"results\")\n",
    "\n",
    "# 解析結果\n",
    "for result in results:\n",
    "    predicted_classes = np.argmax(result, axis=1)\n",
    "    print(f\"Predicted classes: {predicted_classes+1} 數字代表類別\")\n"
   ]
  },
  {
   "cell_type": "code",
   "execution_count": null,
   "metadata": {},
   "outputs": [],
   "source": []
  }
 ],
 "metadata": {
  "kernelspec": {
   "display_name": "tf2onnx",
   "language": "python",
   "name": "python3"
  },
  "language_info": {
   "codemirror_mode": {
    "name": "ipython",
    "version": 3
   },
   "file_extension": ".py",
   "mimetype": "text/x-python",
   "name": "python",
   "nbconvert_exporter": "python",
   "pygments_lexer": "ipython3",
   "version": "3.10.12"
  },
  "orig_nbformat": 4
 },
 "nbformat": 4,
 "nbformat_minor": 2
}
