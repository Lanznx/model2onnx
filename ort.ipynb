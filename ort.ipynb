{
 "cells": [
  {
   "cell_type": "code",
   "execution_count": 3,
   "metadata": {},
   "outputs": [
    {
     "name": "stdout",
     "output_type": "stream",
     "text": [
      "[array([[0.87536174, 0.12463826],\n",
      "       [0.9436375 , 0.05636254]], dtype=float32)] results\n",
      "Predicted classes: [[1 0]]\n"
     ]
    }
   ],
   "source": [
    "import numpy as np\n",
    "import onnxruntime as ort\n",
    "from PIL import Image\n",
    "\n",
    "\n",
    "def preprocess_images(image_paths, target_size):\n",
    "    images = []\n",
    "    for image_path in image_paths:\n",
    "        img = Image.open(image_path)\n",
    "        img = img.resize(target_size)\n",
    "        img_array = np.asarray(img).astype(np.float32)\n",
    "\n",
    "        # 根據您的模型的預處理步驟進行調整，例如：正規化\n",
    "        img_array = img_array / 255.0\n",
    "\n",
    "        images.append(img_array)\n",
    "\n",
    "    return np.array(images)  # 返回形狀為 (batch_size, height, width, channels) 的數據\n",
    "\n",
    "\n",
    "# 加載模型\n",
    "sess = ort.InferenceSession(\"onnx_model.onnx\")\n",
    "\n",
    "# 預處理多張照片\n",
    "image_paths = [\"test_1.jpg\", \"test_2.JPG\"]  # 這裡列出您要處理的圖片的路徑\n",
    "input_data = preprocess_images(image_paths, (224, 224))\n",
    "\n",
    "# 準備輸入數據並執行推理\n",
    "input_name = sess.get_inputs()[0].name\n",
    "results = sess.run(None, {input_name: input_data})\n",
    "print(results, \"results\")\n",
    "# 解析結果\n",
    "predicted_classes = np.argmax(results, axis=1)\n",
    "print(f\"Predicted classes: {predicted_classes}\")"
   ]
  },
  {
   "cell_type": "code",
   "execution_count": null,
   "metadata": {},
   "outputs": [],
   "source": []
  }
 ],
 "metadata": {
  "kernelspec": {
   "display_name": "tf2onnx",
   "language": "python",
   "name": "python3"
  },
  "language_info": {
   "codemirror_mode": {
    "name": "ipython",
    "version": 3
   },
   "file_extension": ".py",
   "mimetype": "text/x-python",
   "name": "python",
   "nbconvert_exporter": "python",
   "pygments_lexer": "ipython3",
   "version": "3.8.5"
  },
  "orig_nbformat": 4
 },
 "nbformat": 4,
 "nbformat_minor": 2
}
